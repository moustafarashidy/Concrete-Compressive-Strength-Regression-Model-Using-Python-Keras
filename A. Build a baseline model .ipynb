{
 "cells": [
  {
   "cell_type": "markdown",
   "id": "13b84f4e-f34a-4582-b561-e41f9b083e6b",
   "metadata": {},
   "source": [
    "Import Pandas and Numpy."
   ]
  },
  {
   "cell_type": "code",
   "execution_count": 1,
   "id": "1df5bf64-1156-4e40-a668-15610c952ba4",
   "metadata": {},
   "outputs": [
    {
     "name": "stderr",
     "output_type": "stream",
     "text": [
      "C:\\Users\\hp\\AppData\\Local\\Temp\\ipykernel_16784\\1505564052.py:1: DeprecationWarning: \n",
      "Pyarrow will become a required dependency of pandas in the next major release of pandas (pandas 3.0),\n",
      "(to allow more performant data types, such as the Arrow string type, and better interoperability with other libraries)\n",
      "but was not found to be installed on your system.\n",
      "If this would cause problems for you,\n",
      "please provide us feedback at https://github.com/pandas-dev/pandas/issues/54466\n",
      "        \n",
      "  import pandas as pd\n"
     ]
    }
   ],
   "source": [
    "import pandas as pd\n",
    "import numpy as np\n",
    "\n",
    "import warnings\n",
    "warnings.simplefilter('ignore', FutureWarning)"
   ]
  },
  {
   "cell_type": "markdown",
   "id": "821b8788-a7fa-4396-b4e1-12fce10667b8",
   "metadata": {},
   "source": [
    "Download the data and read it into a Pandas dataframe."
   ]
  },
  {
   "cell_type": "code",
   "execution_count": 2,
   "id": "eeb9b171-0950-46ba-b765-1c90d80607af",
   "metadata": {},
   "outputs": [
    {
     "data": {
      "text/html": [
       "<div>\n",
       "<style scoped>\n",
       "    .dataframe tbody tr th:only-of-type {\n",
       "        vertical-align: middle;\n",
       "    }\n",
       "\n",
       "    .dataframe tbody tr th {\n",
       "        vertical-align: top;\n",
       "    }\n",
       "\n",
       "    .dataframe thead th {\n",
       "        text-align: right;\n",
       "    }\n",
       "</style>\n",
       "<table border=\"1\" class=\"dataframe\">\n",
       "  <thead>\n",
       "    <tr style=\"text-align: right;\">\n",
       "      <th></th>\n",
       "      <th>Cement</th>\n",
       "      <th>Blast Furnace Slag</th>\n",
       "      <th>Fly Ash</th>\n",
       "      <th>Water</th>\n",
       "      <th>Superplasticizer</th>\n",
       "      <th>Coarse Aggregate</th>\n",
       "      <th>Fine Aggregate</th>\n",
       "      <th>Age</th>\n",
       "      <th>Strength</th>\n",
       "    </tr>\n",
       "  </thead>\n",
       "  <tbody>\n",
       "    <tr>\n",
       "      <th>0</th>\n",
       "      <td>540.0</td>\n",
       "      <td>0.0</td>\n",
       "      <td>0.0</td>\n",
       "      <td>162.0</td>\n",
       "      <td>2.5</td>\n",
       "      <td>1040.0</td>\n",
       "      <td>676.0</td>\n",
       "      <td>28</td>\n",
       "      <td>79.99</td>\n",
       "    </tr>\n",
       "    <tr>\n",
       "      <th>1</th>\n",
       "      <td>540.0</td>\n",
       "      <td>0.0</td>\n",
       "      <td>0.0</td>\n",
       "      <td>162.0</td>\n",
       "      <td>2.5</td>\n",
       "      <td>1055.0</td>\n",
       "      <td>676.0</td>\n",
       "      <td>28</td>\n",
       "      <td>61.89</td>\n",
       "    </tr>\n",
       "    <tr>\n",
       "      <th>2</th>\n",
       "      <td>332.5</td>\n",
       "      <td>142.5</td>\n",
       "      <td>0.0</td>\n",
       "      <td>228.0</td>\n",
       "      <td>0.0</td>\n",
       "      <td>932.0</td>\n",
       "      <td>594.0</td>\n",
       "      <td>270</td>\n",
       "      <td>40.27</td>\n",
       "    </tr>\n",
       "    <tr>\n",
       "      <th>3</th>\n",
       "      <td>332.5</td>\n",
       "      <td>142.5</td>\n",
       "      <td>0.0</td>\n",
       "      <td>228.0</td>\n",
       "      <td>0.0</td>\n",
       "      <td>932.0</td>\n",
       "      <td>594.0</td>\n",
       "      <td>365</td>\n",
       "      <td>41.05</td>\n",
       "    </tr>\n",
       "    <tr>\n",
       "      <th>4</th>\n",
       "      <td>198.6</td>\n",
       "      <td>132.4</td>\n",
       "      <td>0.0</td>\n",
       "      <td>192.0</td>\n",
       "      <td>0.0</td>\n",
       "      <td>978.4</td>\n",
       "      <td>825.5</td>\n",
       "      <td>360</td>\n",
       "      <td>44.30</td>\n",
       "    </tr>\n",
       "  </tbody>\n",
       "</table>\n",
       "</div>"
      ],
      "text/plain": [
       "   Cement  Blast Furnace Slag  Fly Ash  Water  Superplasticizer  \\\n",
       "0   540.0                 0.0      0.0  162.0               2.5   \n",
       "1   540.0                 0.0      0.0  162.0               2.5   \n",
       "2   332.5               142.5      0.0  228.0               0.0   \n",
       "3   332.5               142.5      0.0  228.0               0.0   \n",
       "4   198.6               132.4      0.0  192.0               0.0   \n",
       "\n",
       "   Coarse Aggregate  Fine Aggregate  Age  Strength  \n",
       "0            1040.0           676.0   28     79.99  \n",
       "1            1055.0           676.0   28     61.89  \n",
       "2             932.0           594.0  270     40.27  \n",
       "3             932.0           594.0  365     41.05  \n",
       "4             978.4           825.5  360     44.30  "
      ]
     },
     "execution_count": 2,
     "metadata": {},
     "output_type": "execute_result"
    }
   ],
   "source": [
    "concrete_data = pd.read_csv('https://s3-api.us-geo.objectstorage.softlayer.net/cf-courses-data/CognitiveClass/DL0101EN/labs/data/concrete_data.csv')\n",
    "concrete_data.head()"
   ]
  },
  {
   "cell_type": "markdown",
   "id": "673bd13f-f58e-4a8e-b76b-35b563033cae",
   "metadata": {},
   "source": [
    "Check the number of the data points."
   ]
  },
  {
   "cell_type": "code",
   "execution_count": 3,
   "id": "dd7233be-538e-4d87-873a-8a8472364b1f",
   "metadata": {},
   "outputs": [
    {
     "data": {
      "text/plain": [
       "(1030, 9)"
      ]
     },
     "execution_count": 3,
     "metadata": {},
     "output_type": "execute_result"
    }
   ],
   "source": [
    "concrete_data.shape"
   ]
  },
  {
   "cell_type": "markdown",
   "id": "5e379a91-bfa1-41bc-acdd-4d765737aa5c",
   "metadata": {},
   "source": [
    "Check the statistical summary of the data."
   ]
  },
  {
   "cell_type": "code",
   "execution_count": 4,
   "id": "dcf31034-6776-4e95-a4d8-27b4fcf5fd2a",
   "metadata": {},
   "outputs": [
    {
     "data": {
      "text/html": [
       "<div>\n",
       "<style scoped>\n",
       "    .dataframe tbody tr th:only-of-type {\n",
       "        vertical-align: middle;\n",
       "    }\n",
       "\n",
       "    .dataframe tbody tr th {\n",
       "        vertical-align: top;\n",
       "    }\n",
       "\n",
       "    .dataframe thead th {\n",
       "        text-align: right;\n",
       "    }\n",
       "</style>\n",
       "<table border=\"1\" class=\"dataframe\">\n",
       "  <thead>\n",
       "    <tr style=\"text-align: right;\">\n",
       "      <th></th>\n",
       "      <th>Cement</th>\n",
       "      <th>Blast Furnace Slag</th>\n",
       "      <th>Fly Ash</th>\n",
       "      <th>Water</th>\n",
       "      <th>Superplasticizer</th>\n",
       "      <th>Coarse Aggregate</th>\n",
       "      <th>Fine Aggregate</th>\n",
       "      <th>Age</th>\n",
       "      <th>Strength</th>\n",
       "    </tr>\n",
       "  </thead>\n",
       "  <tbody>\n",
       "    <tr>\n",
       "      <th>count</th>\n",
       "      <td>1030.000000</td>\n",
       "      <td>1030.000000</td>\n",
       "      <td>1030.000000</td>\n",
       "      <td>1030.000000</td>\n",
       "      <td>1030.000000</td>\n",
       "      <td>1030.000000</td>\n",
       "      <td>1030.000000</td>\n",
       "      <td>1030.000000</td>\n",
       "      <td>1030.000000</td>\n",
       "    </tr>\n",
       "    <tr>\n",
       "      <th>mean</th>\n",
       "      <td>281.167864</td>\n",
       "      <td>73.895825</td>\n",
       "      <td>54.188350</td>\n",
       "      <td>181.567282</td>\n",
       "      <td>6.204660</td>\n",
       "      <td>972.918932</td>\n",
       "      <td>773.580485</td>\n",
       "      <td>45.662136</td>\n",
       "      <td>35.817961</td>\n",
       "    </tr>\n",
       "    <tr>\n",
       "      <th>std</th>\n",
       "      <td>104.506364</td>\n",
       "      <td>86.279342</td>\n",
       "      <td>63.997004</td>\n",
       "      <td>21.354219</td>\n",
       "      <td>5.973841</td>\n",
       "      <td>77.753954</td>\n",
       "      <td>80.175980</td>\n",
       "      <td>63.169912</td>\n",
       "      <td>16.705742</td>\n",
       "    </tr>\n",
       "    <tr>\n",
       "      <th>min</th>\n",
       "      <td>102.000000</td>\n",
       "      <td>0.000000</td>\n",
       "      <td>0.000000</td>\n",
       "      <td>121.800000</td>\n",
       "      <td>0.000000</td>\n",
       "      <td>801.000000</td>\n",
       "      <td>594.000000</td>\n",
       "      <td>1.000000</td>\n",
       "      <td>2.330000</td>\n",
       "    </tr>\n",
       "    <tr>\n",
       "      <th>25%</th>\n",
       "      <td>192.375000</td>\n",
       "      <td>0.000000</td>\n",
       "      <td>0.000000</td>\n",
       "      <td>164.900000</td>\n",
       "      <td>0.000000</td>\n",
       "      <td>932.000000</td>\n",
       "      <td>730.950000</td>\n",
       "      <td>7.000000</td>\n",
       "      <td>23.710000</td>\n",
       "    </tr>\n",
       "    <tr>\n",
       "      <th>50%</th>\n",
       "      <td>272.900000</td>\n",
       "      <td>22.000000</td>\n",
       "      <td>0.000000</td>\n",
       "      <td>185.000000</td>\n",
       "      <td>6.400000</td>\n",
       "      <td>968.000000</td>\n",
       "      <td>779.500000</td>\n",
       "      <td>28.000000</td>\n",
       "      <td>34.445000</td>\n",
       "    </tr>\n",
       "    <tr>\n",
       "      <th>75%</th>\n",
       "      <td>350.000000</td>\n",
       "      <td>142.950000</td>\n",
       "      <td>118.300000</td>\n",
       "      <td>192.000000</td>\n",
       "      <td>10.200000</td>\n",
       "      <td>1029.400000</td>\n",
       "      <td>824.000000</td>\n",
       "      <td>56.000000</td>\n",
       "      <td>46.135000</td>\n",
       "    </tr>\n",
       "    <tr>\n",
       "      <th>max</th>\n",
       "      <td>540.000000</td>\n",
       "      <td>359.400000</td>\n",
       "      <td>200.100000</td>\n",
       "      <td>247.000000</td>\n",
       "      <td>32.200000</td>\n",
       "      <td>1145.000000</td>\n",
       "      <td>992.600000</td>\n",
       "      <td>365.000000</td>\n",
       "      <td>82.600000</td>\n",
       "    </tr>\n",
       "  </tbody>\n",
       "</table>\n",
       "</div>"
      ],
      "text/plain": [
       "            Cement  Blast Furnace Slag      Fly Ash        Water  \\\n",
       "count  1030.000000         1030.000000  1030.000000  1030.000000   \n",
       "mean    281.167864           73.895825    54.188350   181.567282   \n",
       "std     104.506364           86.279342    63.997004    21.354219   \n",
       "min     102.000000            0.000000     0.000000   121.800000   \n",
       "25%     192.375000            0.000000     0.000000   164.900000   \n",
       "50%     272.900000           22.000000     0.000000   185.000000   \n",
       "75%     350.000000          142.950000   118.300000   192.000000   \n",
       "max     540.000000          359.400000   200.100000   247.000000   \n",
       "\n",
       "       Superplasticizer  Coarse Aggregate  Fine Aggregate          Age  \\\n",
       "count       1030.000000       1030.000000     1030.000000  1030.000000   \n",
       "mean           6.204660        972.918932      773.580485    45.662136   \n",
       "std            5.973841         77.753954       80.175980    63.169912   \n",
       "min            0.000000        801.000000      594.000000     1.000000   \n",
       "25%            0.000000        932.000000      730.950000     7.000000   \n",
       "50%            6.400000        968.000000      779.500000    28.000000   \n",
       "75%           10.200000       1029.400000      824.000000    56.000000   \n",
       "max           32.200000       1145.000000      992.600000   365.000000   \n",
       "\n",
       "          Strength  \n",
       "count  1030.000000  \n",
       "mean     35.817961  \n",
       "std      16.705742  \n",
       "min       2.330000  \n",
       "25%      23.710000  \n",
       "50%      34.445000  \n",
       "75%      46.135000  \n",
       "max      82.600000  "
      ]
     },
     "execution_count": 4,
     "metadata": {},
     "output_type": "execute_result"
    }
   ],
   "source": [
    "concrete_data.describe()"
   ]
  },
  {
   "cell_type": "markdown",
   "id": "2182e81e-30e4-4bf0-a9b4-35c6bdda2159",
   "metadata": {},
   "source": [
    "Check the data for any missing values."
   ]
  },
  {
   "cell_type": "code",
   "execution_count": 5,
   "id": "9deeafb7-c39a-476c-a96d-4d6e7da6a089",
   "metadata": {},
   "outputs": [
    {
     "data": {
      "text/plain": [
       "Cement                0\n",
       "Blast Furnace Slag    0\n",
       "Fly Ash               0\n",
       "Water                 0\n",
       "Superplasticizer      0\n",
       "Coarse Aggregate      0\n",
       "Fine Aggregate        0\n",
       "Age                   0\n",
       "Strength              0\n",
       "dtype: int64"
      ]
     },
     "execution_count": 5,
     "metadata": {},
     "output_type": "execute_result"
    }
   ],
   "source": [
    "concrete_data.isnull().sum()"
   ]
  },
  {
   "cell_type": "markdown",
   "id": "ffa9320f-c91f-4659-8cdf-4d24248aa9fc",
   "metadata": {},
   "source": [
    "Split data into target (the column 'Strength') and predictors (the other columns)."
   ]
  },
  {
   "cell_type": "code",
   "execution_count": 6,
   "id": "712895bd-ac6a-4d29-b201-5072a610d2b2",
   "metadata": {},
   "outputs": [],
   "source": [
    "concrete_data_columns = concrete_data.columns\n",
    "\n",
    "predictors = concrete_data[concrete_data_columns[concrete_data_columns != 'Strength']] # all columns except Strength\n",
    "target = concrete_data['Strength'] # Strength column"
   ]
  },
  {
   "cell_type": "code",
   "execution_count": 7,
   "id": "9ec7f387-3226-4a46-a3ea-fb9c27a69725",
   "metadata": {},
   "outputs": [
    {
     "data": {
      "text/html": [
       "<div>\n",
       "<style scoped>\n",
       "    .dataframe tbody tr th:only-of-type {\n",
       "        vertical-align: middle;\n",
       "    }\n",
       "\n",
       "    .dataframe tbody tr th {\n",
       "        vertical-align: top;\n",
       "    }\n",
       "\n",
       "    .dataframe thead th {\n",
       "        text-align: right;\n",
       "    }\n",
       "</style>\n",
       "<table border=\"1\" class=\"dataframe\">\n",
       "  <thead>\n",
       "    <tr style=\"text-align: right;\">\n",
       "      <th></th>\n",
       "      <th>Cement</th>\n",
       "      <th>Blast Furnace Slag</th>\n",
       "      <th>Fly Ash</th>\n",
       "      <th>Water</th>\n",
       "      <th>Superplasticizer</th>\n",
       "      <th>Coarse Aggregate</th>\n",
       "      <th>Fine Aggregate</th>\n",
       "      <th>Age</th>\n",
       "    </tr>\n",
       "  </thead>\n",
       "  <tbody>\n",
       "    <tr>\n",
       "      <th>0</th>\n",
       "      <td>540.0</td>\n",
       "      <td>0.0</td>\n",
       "      <td>0.0</td>\n",
       "      <td>162.0</td>\n",
       "      <td>2.5</td>\n",
       "      <td>1040.0</td>\n",
       "      <td>676.0</td>\n",
       "      <td>28</td>\n",
       "    </tr>\n",
       "    <tr>\n",
       "      <th>1</th>\n",
       "      <td>540.0</td>\n",
       "      <td>0.0</td>\n",
       "      <td>0.0</td>\n",
       "      <td>162.0</td>\n",
       "      <td>2.5</td>\n",
       "      <td>1055.0</td>\n",
       "      <td>676.0</td>\n",
       "      <td>28</td>\n",
       "    </tr>\n",
       "    <tr>\n",
       "      <th>2</th>\n",
       "      <td>332.5</td>\n",
       "      <td>142.5</td>\n",
       "      <td>0.0</td>\n",
       "      <td>228.0</td>\n",
       "      <td>0.0</td>\n",
       "      <td>932.0</td>\n",
       "      <td>594.0</td>\n",
       "      <td>270</td>\n",
       "    </tr>\n",
       "    <tr>\n",
       "      <th>3</th>\n",
       "      <td>332.5</td>\n",
       "      <td>142.5</td>\n",
       "      <td>0.0</td>\n",
       "      <td>228.0</td>\n",
       "      <td>0.0</td>\n",
       "      <td>932.0</td>\n",
       "      <td>594.0</td>\n",
       "      <td>365</td>\n",
       "    </tr>\n",
       "    <tr>\n",
       "      <th>4</th>\n",
       "      <td>198.6</td>\n",
       "      <td>132.4</td>\n",
       "      <td>0.0</td>\n",
       "      <td>192.0</td>\n",
       "      <td>0.0</td>\n",
       "      <td>978.4</td>\n",
       "      <td>825.5</td>\n",
       "      <td>360</td>\n",
       "    </tr>\n",
       "  </tbody>\n",
       "</table>\n",
       "</div>"
      ],
      "text/plain": [
       "   Cement  Blast Furnace Slag  Fly Ash  Water  Superplasticizer  \\\n",
       "0   540.0                 0.0      0.0  162.0               2.5   \n",
       "1   540.0                 0.0      0.0  162.0               2.5   \n",
       "2   332.5               142.5      0.0  228.0               0.0   \n",
       "3   332.5               142.5      0.0  228.0               0.0   \n",
       "4   198.6               132.4      0.0  192.0               0.0   \n",
       "\n",
       "   Coarse Aggregate  Fine Aggregate  Age  \n",
       "0            1040.0           676.0   28  \n",
       "1            1055.0           676.0   28  \n",
       "2             932.0           594.0  270  \n",
       "3             932.0           594.0  365  \n",
       "4             978.4           825.5  360  "
      ]
     },
     "execution_count": 7,
     "metadata": {},
     "output_type": "execute_result"
    }
   ],
   "source": [
    "predictors.head() # Check the first five rows of the Predictors dataframe"
   ]
  },
  {
   "cell_type": "code",
   "execution_count": 8,
   "id": "e97c65eb-cb9f-4e18-9af1-0ed0b742b614",
   "metadata": {},
   "outputs": [
    {
     "data": {
      "text/plain": [
       "0    79.99\n",
       "1    61.89\n",
       "2    40.27\n",
       "3    41.05\n",
       "4    44.30\n",
       "Name: Strength, dtype: float64"
      ]
     },
     "execution_count": 8,
     "metadata": {},
     "output_type": "execute_result"
    }
   ],
   "source": [
    "target.head() #Chech the first five values of the Strength column "
   ]
  },
  {
   "cell_type": "markdown",
   "id": "386bdc1f-2e05-4b26-af89-55c14dc400f3",
   "metadata": {},
   "source": [
    "Save the number of predictors to *n_cols*."
   ]
  },
  {
   "cell_type": "code",
   "execution_count": 9,
   "id": "b1285e14-8785-4651-a25a-220c747c6a33",
   "metadata": {},
   "outputs": [],
   "source": [
    "n_cols = predictors.shape[1] # number of predictors"
   ]
  },
  {
   "cell_type": "markdown",
   "id": "5b6f834c-547a-4e9f-8870-1f33853570eb",
   "metadata": {},
   "source": [
    "Import Keras and its required packages."
   ]
  },
  {
   "cell_type": "code",
   "execution_count": 10,
   "id": "6d0f8e6a-4de7-48ed-8afa-95100116ce33",
   "metadata": {},
   "outputs": [],
   "source": [
    "import keras"
   ]
  },
  {
   "cell_type": "code",
   "execution_count": 11,
   "id": "a7190881-89b4-4eb6-ae79-835ee081d53c",
   "metadata": {},
   "outputs": [],
   "source": [
    "from keras.models import Sequential\n",
    "from keras.layers import Dense"
   ]
  },
  {
   "cell_type": "markdown",
   "id": "d0583e80-1431-4a1d-b326-2a770a5a588f",
   "metadata": {},
   "source": [
    "## Build a Neural Network"
   ]
  },
  {
   "cell_type": "code",
   "execution_count": 12,
   "id": "262a551c-78e9-4fb1-b670-1ee1f73b8e5d",
   "metadata": {},
   "outputs": [],
   "source": [
    "# define regression model\n",
    "def regression_model():\n",
    "    # create model\n",
    "    model = Sequential()\n",
    "    model.add(Dense(10, activation='relu', input_shape=(n_cols,)))\n",
    "    model.add(Dense(1))\n",
    "    \n",
    "    # compile model\n",
    "    model.compile(optimizer='adam', loss='mean_squared_error')\n",
    "    return model"
   ]
  },
  {
   "cell_type": "markdown",
   "id": "035cc04b-26d0-4b24-a061-0feb578f7ccd",
   "metadata": {},
   "source": [
    "The above function creates a model with 1 hidden layer and 10 hidden units.\n"
   ]
  },
  {
   "cell_type": "markdown",
   "id": "d28a4335-99f7-4bfd-942d-9b16cd10f263",
   "metadata": {},
   "source": [
    "## Train and Test the Network"
   ]
  },
  {
   "cell_type": "code",
   "execution_count": 13,
   "id": "d04577ba-2e41-4ffb-9809-36871fc8a039",
   "metadata": {},
   "outputs": [
    {
     "name": "stderr",
     "output_type": "stream",
     "text": [
      "C:\\Users\\hp\\AppData\\Local\\Programs\\Python\\Python312\\Lib\\site-packages\\keras\\src\\layers\\core\\dense.py:87: UserWarning: Do not pass an `input_shape`/`input_dim` argument to a layer. When using Sequential models, prefer using an `Input(shape)` object as the first layer in the model instead.\n",
      "  super().__init__(activity_regularizer=activity_regularizer, **kwargs)\n"
     ]
    }
   ],
   "source": [
    "# build the model\n",
    "model = regression_model()"
   ]
  },
  {
   "cell_type": "code",
   "execution_count": 14,
   "id": "de12b3e0-d6f4-47df-80c2-8e4871ef39d5",
   "metadata": {},
   "outputs": [
    {
     "name": "stdout",
     "output_type": "stream",
     "text": [
      "Epoch 1/50\n",
      "23/23 - 6s - 270ms/step - loss: 147986.7812 - val_loss: 103911.8516\n",
      "Epoch 2/50\n",
      "23/23 - 0s - 12ms/step - loss: 82959.6094 - val_loss: 57671.1914\n",
      "Epoch 3/50\n",
      "23/23 - 0s - 11ms/step - loss: 46305.0664 - val_loss: 31452.1934\n",
      "Epoch 4/50\n",
      "23/23 - 0s - 13ms/step - loss: 25106.1738 - val_loss: 16002.2979\n",
      "Epoch 5/50\n",
      "23/23 - 0s - 19ms/step - loss: 12763.0986 - val_loss: 7310.6758\n",
      "Epoch 6/50\n",
      "23/23 - 0s - 12ms/step - loss: 6467.0342 - val_loss: 3515.3467\n",
      "Epoch 7/50\n",
      "23/23 - 0s - 12ms/step - loss: 4151.5283 - val_loss: 2331.4321\n",
      "Epoch 8/50\n",
      "23/23 - 0s - 12ms/step - loss: 3439.7378 - val_loss: 2019.8309\n",
      "Epoch 9/50\n",
      "23/23 - 0s - 13ms/step - loss: 3125.2651 - val_loss: 1848.3790\n",
      "Epoch 10/50\n",
      "23/23 - 0s - 18ms/step - loss: 2864.2212 - val_loss: 1705.4778\n",
      "Epoch 11/50\n",
      "23/23 - 0s - 10ms/step - loss: 2619.4124 - val_loss: 1575.0162\n",
      "Epoch 12/50\n",
      "23/23 - 0s - 17ms/step - loss: 2386.1870 - val_loss: 1453.2573\n",
      "Epoch 13/50\n",
      "23/23 - 0s - 13ms/step - loss: 2179.4470 - val_loss: 1333.4501\n",
      "Epoch 14/50\n",
      "23/23 - 0s - 11ms/step - loss: 1987.4191 - val_loss: 1240.2876\n",
      "Epoch 15/50\n",
      "23/23 - 1s - 30ms/step - loss: 1817.2122 - val_loss: 1150.5228\n",
      "Epoch 16/50\n",
      "23/23 - 0s - 19ms/step - loss: 1663.2356 - val_loss: 1067.5164\n",
      "Epoch 17/50\n",
      "23/23 - 0s - 15ms/step - loss: 1526.4489 - val_loss: 989.3947\n",
      "Epoch 18/50\n",
      "23/23 - 0s - 15ms/step - loss: 1403.2673 - val_loss: 926.9122\n",
      "Epoch 19/50\n",
      "23/23 - 0s - 13ms/step - loss: 1293.4135 - val_loss: 864.9232\n",
      "Epoch 20/50\n",
      "23/23 - 0s - 12ms/step - loss: 1193.3708 - val_loss: 813.2929\n",
      "Epoch 21/50\n",
      "23/23 - 0s - 12ms/step - loss: 1106.0215 - val_loss: 761.1957\n",
      "Epoch 22/50\n",
      "23/23 - 0s - 13ms/step - loss: 1025.8617 - val_loss: 704.4503\n",
      "Epoch 23/50\n",
      "23/23 - 0s - 13ms/step - loss: 953.1584 - val_loss: 670.2227\n",
      "Epoch 24/50\n",
      "23/23 - 0s - 13ms/step - loss: 887.2820 - val_loss: 627.3559\n",
      "Epoch 25/50\n",
      "23/23 - 0s - 12ms/step - loss: 826.3434 - val_loss: 596.7833\n",
      "Epoch 26/50\n",
      "23/23 - 0s - 15ms/step - loss: 770.7720 - val_loss: 559.8987\n",
      "Epoch 27/50\n",
      "23/23 - 0s - 12ms/step - loss: 719.7709 - val_loss: 534.3459\n",
      "Epoch 28/50\n",
      "23/23 - 0s - 12ms/step - loss: 673.0025 - val_loss: 502.1747\n",
      "Epoch 29/50\n",
      "23/23 - 0s - 13ms/step - loss: 627.5875 - val_loss: 484.6224\n",
      "Epoch 30/50\n",
      "23/23 - 0s - 12ms/step - loss: 586.7275 - val_loss: 467.5799\n",
      "Epoch 31/50\n",
      "23/23 - 0s - 11ms/step - loss: 548.8836 - val_loss: 442.5163\n",
      "Epoch 32/50\n",
      "23/23 - 0s - 12ms/step - loss: 512.5308 - val_loss: 434.3591\n",
      "Epoch 33/50\n",
      "23/23 - 0s - 12ms/step - loss: 481.1878 - val_loss: 415.0426\n",
      "Epoch 34/50\n",
      "23/23 - 0s - 13ms/step - loss: 450.3686 - val_loss: 403.9219\n",
      "Epoch 35/50\n",
      "23/23 - 0s - 13ms/step - loss: 423.7588 - val_loss: 405.0985\n",
      "Epoch 36/50\n",
      "23/23 - 0s - 14ms/step - loss: 400.9400 - val_loss: 386.4467\n",
      "Epoch 37/50\n",
      "23/23 - 0s - 12ms/step - loss: 378.3800 - val_loss: 393.3629\n",
      "Epoch 38/50\n",
      "23/23 - 0s - 11ms/step - loss: 360.5239 - val_loss: 372.9889\n",
      "Epoch 39/50\n",
      "23/23 - 0s - 12ms/step - loss: 343.7951 - val_loss: 383.1616\n",
      "Epoch 40/50\n",
      "23/23 - 0s - 12ms/step - loss: 329.7126 - val_loss: 372.8465\n",
      "Epoch 41/50\n",
      "23/23 - 0s - 11ms/step - loss: 318.6426 - val_loss: 367.4561\n",
      "Epoch 42/50\n",
      "23/23 - 0s - 11ms/step - loss: 308.0484 - val_loss: 372.5525\n",
      "Epoch 43/50\n",
      "23/23 - 0s - 12ms/step - loss: 298.9430 - val_loss: 373.7336\n",
      "Epoch 44/50\n",
      "23/23 - 0s - 13ms/step - loss: 291.4276 - val_loss: 365.2028\n",
      "Epoch 45/50\n",
      "23/23 - 0s - 12ms/step - loss: 284.5345 - val_loss: 364.9063\n",
      "Epoch 46/50\n",
      "23/23 - 0s - 14ms/step - loss: 278.3452 - val_loss: 371.8884\n",
      "Epoch 47/50\n",
      "23/23 - 0s - 12ms/step - loss: 273.6483 - val_loss: 362.5507\n",
      "Epoch 48/50\n",
      "23/23 - 0s - 11ms/step - loss: 269.2121 - val_loss: 365.3959\n",
      "Epoch 49/50\n",
      "23/23 - 0s - 12ms/step - loss: 263.6157 - val_loss: 356.1257\n",
      "Epoch 50/50\n",
      "23/23 - 0s - 12ms/step - loss: 260.0885 - val_loss: 357.3801\n"
     ]
    },
    {
     "data": {
      "text/plain": [
       "<keras.src.callbacks.history.History at 0x23c96317290>"
      ]
     },
     "execution_count": 14,
     "metadata": {},
     "output_type": "execute_result"
    }
   ],
   "source": [
    "# fit the model\n",
    "model.fit(predictors, target, validation_split=0.3, epochs=50, verbose=2)"
   ]
  },
  {
   "cell_type": "markdown",
   "id": "26139ae0-3842-4b72-9331-2b376bbaec21",
   "metadata": {},
   "source": [
    "Repeat the traiing and testing for 50 cycles and create a list of 50 mean squared errors representing each cycle."
   ]
  },
  {
   "cell_type": "code",
   "execution_count": 15,
   "id": "9a0b0f64-b1ef-4c87-ae93-4aef22153a57",
   "metadata": {},
   "outputs": [
    {
     "name": "stdout",
     "output_type": "stream",
     "text": [
      "i #1: mean_squared_error 228.7698211669922\n",
      "i #2: mean_squared_error 137.35794067382812\n",
      "i #3: mean_squared_error 110.22750854492188\n",
      "i #4: mean_squared_error 98.75452423095703\n",
      "i #5: mean_squared_error 90.78028869628906\n",
      "i #6: mean_squared_error 93.85552215576172\n",
      "i #7: mean_squared_error 90.64178466796875\n",
      "i #8: mean_squared_error 86.72688293457031\n",
      "i #9: mean_squared_error 108.14041137695312\n",
      "i #10: mean_squared_error 111.78563690185547\n",
      "i #11: mean_squared_error 87.47857666015625\n",
      "i #12: mean_squared_error 91.1177749633789\n",
      "i #13: mean_squared_error 81.13117218017578\n",
      "i #14: mean_squared_error 95.38999938964844\n",
      "i #15: mean_squared_error 86.95088195800781\n",
      "i #16: mean_squared_error 65.18614196777344\n",
      "i #17: mean_squared_error 86.7201919555664\n",
      "i #18: mean_squared_error 65.9131851196289\n",
      "i #19: mean_squared_error 82.07086181640625\n",
      "i #20: mean_squared_error 80.49560546875\n",
      "i #21: mean_squared_error 94.63603973388672\n",
      "i #22: mean_squared_error 94.87532043457031\n",
      "i #23: mean_squared_error 124.7748794555664\n",
      "i #24: mean_squared_error 130.02796936035156\n",
      "i #25: mean_squared_error 125.53912353515625\n",
      "i #26: mean_squared_error 106.79408264160156\n",
      "i #27: mean_squared_error 100.89242553710938\n",
      "i #28: mean_squared_error 99.72425079345703\n",
      "i #29: mean_squared_error 122.62277221679688\n",
      "i #30: mean_squared_error 136.27134704589844\n",
      "i #31: mean_squared_error 123.39613342285156\n",
      "i #32: mean_squared_error 91.53522491455078\n",
      "i #33: mean_squared_error 110.34410095214844\n",
      "i #34: mean_squared_error 107.39613342285156\n",
      "i #35: mean_squared_error 108.86732482910156\n",
      "i #36: mean_squared_error 127.20514678955078\n",
      "i #37: mean_squared_error 92.11124420166016\n",
      "i #38: mean_squared_error 141.1280059814453\n",
      "i #39: mean_squared_error 131.13055419921875\n",
      "i #40: mean_squared_error 128.1111297607422\n",
      "i #41: mean_squared_error 116.24243927001953\n",
      "i #42: mean_squared_error 128.7393035888672\n",
      "i #43: mean_squared_error 114.8512191772461\n",
      "i #44: mean_squared_error 120.38044738769531\n",
      "i #45: mean_squared_error 135.236572265625\n",
      "i #46: mean_squared_error 133.70724487304688\n",
      "i #47: mean_squared_error 109.70833587646484\n",
      "i #48: mean_squared_error 128.38174438476562\n",
      "i #49: mean_squared_error 124.49920654296875\n",
      "i #50: mean_squared_error 159.9667205810547\n"
     ]
    }
   ],
   "source": [
    "mean_squared_errors = []\n",
    "for i in range(50):\n",
    "    #Randomly split the data (70% for training and 30% for testing), train , and test the model\n",
    "   \n",
    "    fitting = model.fit(predictors, target, validation_split=0.3, epochs=50, verbose=0)\n",
    "    #Find the last mean_squared_error in history.\n",
    "    mean_squared_error = fitting.history['val_loss'][-1]\n",
    "    #AAppend every mean_squared_error considered to the list.\n",
    "    mean_squared_errors.append(mean_squared_error)\n",
    "    print('i #{}: mean_squared_error {}'.format(i+1, mean_squared_error))"
   ]
  },
  {
   "cell_type": "markdown",
   "id": "157c2f65-e495-4a28-a7bd-825e7198b0ed",
   "metadata": {},
   "source": [
    "Report the mean and the standard deviation of the mean squared errors."
   ]
  },
  {
   "cell_type": "code",
   "execution_count": 16,
   "id": "8e73d01b-c1e0-422c-829d-d9d8db501395",
   "metadata": {},
   "outputs": [
    {
     "name": "stdout",
     "output_type": "stream",
     "text": [
      "The mean of the mean squared errors: 110.9718231201172\n",
      "The standard deviation of the mean squared errors: 26.495544553650785\n"
     ]
    }
   ],
   "source": [
    "print('The mean of the mean squared errors: {}'.format(np.mean(mean_squared_errors)))\n",
    "print('The standard deviation of the mean squared errors: {}'.format(np.std(mean_squared_errors)))"
   ]
  },
  {
   "cell_type": "code",
   "execution_count": null,
   "id": "0de81580-ba50-44de-bf02-a1ab8e15c49a",
   "metadata": {},
   "outputs": [],
   "source": []
  }
 ],
 "metadata": {
  "kernelspec": {
   "display_name": "Python 3 (ipykernel)",
   "language": "python",
   "name": "python3"
  },
  "language_info": {
   "codemirror_mode": {
    "name": "ipython",
    "version": 3
   },
   "file_extension": ".py",
   "mimetype": "text/x-python",
   "name": "python",
   "nbconvert_exporter": "python",
   "pygments_lexer": "ipython3",
   "version": "3.12.1"
  }
 },
 "nbformat": 4,
 "nbformat_minor": 5
}
