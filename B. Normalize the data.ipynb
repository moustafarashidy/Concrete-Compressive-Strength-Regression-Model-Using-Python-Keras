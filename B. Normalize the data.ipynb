{
 "cells": [
  {
   "cell_type": "markdown",
   "id": "13b84f4e-f34a-4582-b561-e41f9b083e6b",
   "metadata": {},
   "source": [
    "Import Pandas and Numpy."
   ]
  },
  {
   "cell_type": "code",
   "execution_count": 2,
   "id": "1df5bf64-1156-4e40-a668-15610c952ba4",
   "metadata": {},
   "outputs": [
    {
     "name": "stderr",
     "output_type": "stream",
     "text": [
      "C:\\Users\\hp\\AppData\\Local\\Temp\\ipykernel_18632\\1505564052.py:1: DeprecationWarning: \n",
      "Pyarrow will become a required dependency of pandas in the next major release of pandas (pandas 3.0),\n",
      "(to allow more performant data types, such as the Arrow string type, and better interoperability with other libraries)\n",
      "but was not found to be installed on your system.\n",
      "If this would cause problems for you,\n",
      "please provide us feedback at https://github.com/pandas-dev/pandas/issues/54466\n",
      "        \n",
      "  import pandas as pd\n"
     ]
    }
   ],
   "source": [
    "import pandas as pd\n",
    "import numpy as np\n",
    "\n",
    "import warnings\n",
    "warnings.simplefilter('ignore', FutureWarning)"
   ]
  },
  {
   "cell_type": "markdown",
   "id": "821b8788-a7fa-4396-b4e1-12fce10667b8",
   "metadata": {},
   "source": [
    "Download the data and read it into a Pandas dataframe."
   ]
  },
  {
   "cell_type": "code",
   "execution_count": 3,
   "id": "eeb9b171-0950-46ba-b765-1c90d80607af",
   "metadata": {},
   "outputs": [
    {
     "data": {
      "text/html": [
       "<div>\n",
       "<style scoped>\n",
       "    .dataframe tbody tr th:only-of-type {\n",
       "        vertical-align: middle;\n",
       "    }\n",
       "\n",
       "    .dataframe tbody tr th {\n",
       "        vertical-align: top;\n",
       "    }\n",
       "\n",
       "    .dataframe thead th {\n",
       "        text-align: right;\n",
       "    }\n",
       "</style>\n",
       "<table border=\"1\" class=\"dataframe\">\n",
       "  <thead>\n",
       "    <tr style=\"text-align: right;\">\n",
       "      <th></th>\n",
       "      <th>Cement</th>\n",
       "      <th>Blast Furnace Slag</th>\n",
       "      <th>Fly Ash</th>\n",
       "      <th>Water</th>\n",
       "      <th>Superplasticizer</th>\n",
       "      <th>Coarse Aggregate</th>\n",
       "      <th>Fine Aggregate</th>\n",
       "      <th>Age</th>\n",
       "      <th>Strength</th>\n",
       "    </tr>\n",
       "  </thead>\n",
       "  <tbody>\n",
       "    <tr>\n",
       "      <th>0</th>\n",
       "      <td>540.0</td>\n",
       "      <td>0.0</td>\n",
       "      <td>0.0</td>\n",
       "      <td>162.0</td>\n",
       "      <td>2.5</td>\n",
       "      <td>1040.0</td>\n",
       "      <td>676.0</td>\n",
       "      <td>28</td>\n",
       "      <td>79.99</td>\n",
       "    </tr>\n",
       "    <tr>\n",
       "      <th>1</th>\n",
       "      <td>540.0</td>\n",
       "      <td>0.0</td>\n",
       "      <td>0.0</td>\n",
       "      <td>162.0</td>\n",
       "      <td>2.5</td>\n",
       "      <td>1055.0</td>\n",
       "      <td>676.0</td>\n",
       "      <td>28</td>\n",
       "      <td>61.89</td>\n",
       "    </tr>\n",
       "    <tr>\n",
       "      <th>2</th>\n",
       "      <td>332.5</td>\n",
       "      <td>142.5</td>\n",
       "      <td>0.0</td>\n",
       "      <td>228.0</td>\n",
       "      <td>0.0</td>\n",
       "      <td>932.0</td>\n",
       "      <td>594.0</td>\n",
       "      <td>270</td>\n",
       "      <td>40.27</td>\n",
       "    </tr>\n",
       "    <tr>\n",
       "      <th>3</th>\n",
       "      <td>332.5</td>\n",
       "      <td>142.5</td>\n",
       "      <td>0.0</td>\n",
       "      <td>228.0</td>\n",
       "      <td>0.0</td>\n",
       "      <td>932.0</td>\n",
       "      <td>594.0</td>\n",
       "      <td>365</td>\n",
       "      <td>41.05</td>\n",
       "    </tr>\n",
       "    <tr>\n",
       "      <th>4</th>\n",
       "      <td>198.6</td>\n",
       "      <td>132.4</td>\n",
       "      <td>0.0</td>\n",
       "      <td>192.0</td>\n",
       "      <td>0.0</td>\n",
       "      <td>978.4</td>\n",
       "      <td>825.5</td>\n",
       "      <td>360</td>\n",
       "      <td>44.30</td>\n",
       "    </tr>\n",
       "  </tbody>\n",
       "</table>\n",
       "</div>"
      ],
      "text/plain": [
       "   Cement  Blast Furnace Slag  Fly Ash  Water  Superplasticizer  \\\n",
       "0   540.0                 0.0      0.0  162.0               2.5   \n",
       "1   540.0                 0.0      0.0  162.0               2.5   \n",
       "2   332.5               142.5      0.0  228.0               0.0   \n",
       "3   332.5               142.5      0.0  228.0               0.0   \n",
       "4   198.6               132.4      0.0  192.0               0.0   \n",
       "\n",
       "   Coarse Aggregate  Fine Aggregate  Age  Strength  \n",
       "0            1040.0           676.0   28     79.99  \n",
       "1            1055.0           676.0   28     61.89  \n",
       "2             932.0           594.0  270     40.27  \n",
       "3             932.0           594.0  365     41.05  \n",
       "4             978.4           825.5  360     44.30  "
      ]
     },
     "execution_count": 3,
     "metadata": {},
     "output_type": "execute_result"
    }
   ],
   "source": [
    "concrete_data = pd.read_csv('https://s3-api.us-geo.objectstorage.softlayer.net/cf-courses-data/CognitiveClass/DL0101EN/labs/data/concrete_data.csv')\n",
    "concrete_data.head()"
   ]
  },
  {
   "cell_type": "markdown",
   "id": "673bd13f-f58e-4a8e-b76b-35b563033cae",
   "metadata": {},
   "source": [
    "Check the number of the data points."
   ]
  },
  {
   "cell_type": "code",
   "execution_count": 4,
   "id": "dd7233be-538e-4d87-873a-8a8472364b1f",
   "metadata": {},
   "outputs": [
    {
     "data": {
      "text/plain": [
       "(1030, 9)"
      ]
     },
     "execution_count": 4,
     "metadata": {},
     "output_type": "execute_result"
    }
   ],
   "source": [
    "concrete_data.shape"
   ]
  },
  {
   "cell_type": "markdown",
   "id": "5e379a91-bfa1-41bc-acdd-4d765737aa5c",
   "metadata": {},
   "source": [
    "Check the statistical summary of the data."
   ]
  },
  {
   "cell_type": "code",
   "execution_count": 5,
   "id": "dcf31034-6776-4e95-a4d8-27b4fcf5fd2a",
   "metadata": {},
   "outputs": [
    {
     "data": {
      "text/html": [
       "<div>\n",
       "<style scoped>\n",
       "    .dataframe tbody tr th:only-of-type {\n",
       "        vertical-align: middle;\n",
       "    }\n",
       "\n",
       "    .dataframe tbody tr th {\n",
       "        vertical-align: top;\n",
       "    }\n",
       "\n",
       "    .dataframe thead th {\n",
       "        text-align: right;\n",
       "    }\n",
       "</style>\n",
       "<table border=\"1\" class=\"dataframe\">\n",
       "  <thead>\n",
       "    <tr style=\"text-align: right;\">\n",
       "      <th></th>\n",
       "      <th>Cement</th>\n",
       "      <th>Blast Furnace Slag</th>\n",
       "      <th>Fly Ash</th>\n",
       "      <th>Water</th>\n",
       "      <th>Superplasticizer</th>\n",
       "      <th>Coarse Aggregate</th>\n",
       "      <th>Fine Aggregate</th>\n",
       "      <th>Age</th>\n",
       "      <th>Strength</th>\n",
       "    </tr>\n",
       "  </thead>\n",
       "  <tbody>\n",
       "    <tr>\n",
       "      <th>count</th>\n",
       "      <td>1030.000000</td>\n",
       "      <td>1030.000000</td>\n",
       "      <td>1030.000000</td>\n",
       "      <td>1030.000000</td>\n",
       "      <td>1030.000000</td>\n",
       "      <td>1030.000000</td>\n",
       "      <td>1030.000000</td>\n",
       "      <td>1030.000000</td>\n",
       "      <td>1030.000000</td>\n",
       "    </tr>\n",
       "    <tr>\n",
       "      <th>mean</th>\n",
       "      <td>281.167864</td>\n",
       "      <td>73.895825</td>\n",
       "      <td>54.188350</td>\n",
       "      <td>181.567282</td>\n",
       "      <td>6.204660</td>\n",
       "      <td>972.918932</td>\n",
       "      <td>773.580485</td>\n",
       "      <td>45.662136</td>\n",
       "      <td>35.817961</td>\n",
       "    </tr>\n",
       "    <tr>\n",
       "      <th>std</th>\n",
       "      <td>104.506364</td>\n",
       "      <td>86.279342</td>\n",
       "      <td>63.997004</td>\n",
       "      <td>21.354219</td>\n",
       "      <td>5.973841</td>\n",
       "      <td>77.753954</td>\n",
       "      <td>80.175980</td>\n",
       "      <td>63.169912</td>\n",
       "      <td>16.705742</td>\n",
       "    </tr>\n",
       "    <tr>\n",
       "      <th>min</th>\n",
       "      <td>102.000000</td>\n",
       "      <td>0.000000</td>\n",
       "      <td>0.000000</td>\n",
       "      <td>121.800000</td>\n",
       "      <td>0.000000</td>\n",
       "      <td>801.000000</td>\n",
       "      <td>594.000000</td>\n",
       "      <td>1.000000</td>\n",
       "      <td>2.330000</td>\n",
       "    </tr>\n",
       "    <tr>\n",
       "      <th>25%</th>\n",
       "      <td>192.375000</td>\n",
       "      <td>0.000000</td>\n",
       "      <td>0.000000</td>\n",
       "      <td>164.900000</td>\n",
       "      <td>0.000000</td>\n",
       "      <td>932.000000</td>\n",
       "      <td>730.950000</td>\n",
       "      <td>7.000000</td>\n",
       "      <td>23.710000</td>\n",
       "    </tr>\n",
       "    <tr>\n",
       "      <th>50%</th>\n",
       "      <td>272.900000</td>\n",
       "      <td>22.000000</td>\n",
       "      <td>0.000000</td>\n",
       "      <td>185.000000</td>\n",
       "      <td>6.400000</td>\n",
       "      <td>968.000000</td>\n",
       "      <td>779.500000</td>\n",
       "      <td>28.000000</td>\n",
       "      <td>34.445000</td>\n",
       "    </tr>\n",
       "    <tr>\n",
       "      <th>75%</th>\n",
       "      <td>350.000000</td>\n",
       "      <td>142.950000</td>\n",
       "      <td>118.300000</td>\n",
       "      <td>192.000000</td>\n",
       "      <td>10.200000</td>\n",
       "      <td>1029.400000</td>\n",
       "      <td>824.000000</td>\n",
       "      <td>56.000000</td>\n",
       "      <td>46.135000</td>\n",
       "    </tr>\n",
       "    <tr>\n",
       "      <th>max</th>\n",
       "      <td>540.000000</td>\n",
       "      <td>359.400000</td>\n",
       "      <td>200.100000</td>\n",
       "      <td>247.000000</td>\n",
       "      <td>32.200000</td>\n",
       "      <td>1145.000000</td>\n",
       "      <td>992.600000</td>\n",
       "      <td>365.000000</td>\n",
       "      <td>82.600000</td>\n",
       "    </tr>\n",
       "  </tbody>\n",
       "</table>\n",
       "</div>"
      ],
      "text/plain": [
       "            Cement  Blast Furnace Slag      Fly Ash        Water  \\\n",
       "count  1030.000000         1030.000000  1030.000000  1030.000000   \n",
       "mean    281.167864           73.895825    54.188350   181.567282   \n",
       "std     104.506364           86.279342    63.997004    21.354219   \n",
       "min     102.000000            0.000000     0.000000   121.800000   \n",
       "25%     192.375000            0.000000     0.000000   164.900000   \n",
       "50%     272.900000           22.000000     0.000000   185.000000   \n",
       "75%     350.000000          142.950000   118.300000   192.000000   \n",
       "max     540.000000          359.400000   200.100000   247.000000   \n",
       "\n",
       "       Superplasticizer  Coarse Aggregate  Fine Aggregate          Age  \\\n",
       "count       1030.000000       1030.000000     1030.000000  1030.000000   \n",
       "mean           6.204660        972.918932      773.580485    45.662136   \n",
       "std            5.973841         77.753954       80.175980    63.169912   \n",
       "min            0.000000        801.000000      594.000000     1.000000   \n",
       "25%            0.000000        932.000000      730.950000     7.000000   \n",
       "50%            6.400000        968.000000      779.500000    28.000000   \n",
       "75%           10.200000       1029.400000      824.000000    56.000000   \n",
       "max           32.200000       1145.000000      992.600000   365.000000   \n",
       "\n",
       "          Strength  \n",
       "count  1030.000000  \n",
       "mean     35.817961  \n",
       "std      16.705742  \n",
       "min       2.330000  \n",
       "25%      23.710000  \n",
       "50%      34.445000  \n",
       "75%      46.135000  \n",
       "max      82.600000  "
      ]
     },
     "execution_count": 5,
     "metadata": {},
     "output_type": "execute_result"
    }
   ],
   "source": [
    "concrete_data.describe()"
   ]
  },
  {
   "cell_type": "markdown",
   "id": "2182e81e-30e4-4bf0-a9b4-35c6bdda2159",
   "metadata": {},
   "source": [
    "Check the data for any missing values."
   ]
  },
  {
   "cell_type": "code",
   "execution_count": 6,
   "id": "9deeafb7-c39a-476c-a96d-4d6e7da6a089",
   "metadata": {},
   "outputs": [
    {
     "data": {
      "text/plain": [
       "Cement                0\n",
       "Blast Furnace Slag    0\n",
       "Fly Ash               0\n",
       "Water                 0\n",
       "Superplasticizer      0\n",
       "Coarse Aggregate      0\n",
       "Fine Aggregate        0\n",
       "Age                   0\n",
       "Strength              0\n",
       "dtype: int64"
      ]
     },
     "execution_count": 6,
     "metadata": {},
     "output_type": "execute_result"
    }
   ],
   "source": [
    "concrete_data.isnull().sum()"
   ]
  },
  {
   "cell_type": "markdown",
   "id": "ffa9320f-c91f-4659-8cdf-4d24248aa9fc",
   "metadata": {},
   "source": [
    "Split data into target (the column 'Strength') and predictors (the other columns)."
   ]
  },
  {
   "cell_type": "code",
   "execution_count": 7,
   "id": "712895bd-ac6a-4d29-b201-5072a610d2b2",
   "metadata": {},
   "outputs": [],
   "source": [
    "concrete_data_columns = concrete_data.columns\n",
    "\n",
    "predictors = concrete_data[concrete_data_columns[concrete_data_columns != 'Strength']] # all columns except Strength\n",
    "target = concrete_data['Strength'] # Strength column"
   ]
  },
  {
   "cell_type": "code",
   "execution_count": 23,
   "id": "9ec7f387-3226-4a46-a3ea-fb9c27a69725",
   "metadata": {},
   "outputs": [
    {
     "data": {
      "text/html": [
       "<div>\n",
       "<style scoped>\n",
       "    .dataframe tbody tr th:only-of-type {\n",
       "        vertical-align: middle;\n",
       "    }\n",
       "\n",
       "    .dataframe tbody tr th {\n",
       "        vertical-align: top;\n",
       "    }\n",
       "\n",
       "    .dataframe thead th {\n",
       "        text-align: right;\n",
       "    }\n",
       "</style>\n",
       "<table border=\"1\" class=\"dataframe\">\n",
       "  <thead>\n",
       "    <tr style=\"text-align: right;\">\n",
       "      <th></th>\n",
       "      <th>Cement</th>\n",
       "      <th>Blast Furnace Slag</th>\n",
       "      <th>Fly Ash</th>\n",
       "      <th>Water</th>\n",
       "      <th>Superplasticizer</th>\n",
       "      <th>Coarse Aggregate</th>\n",
       "      <th>Fine Aggregate</th>\n",
       "      <th>Age</th>\n",
       "    </tr>\n",
       "  </thead>\n",
       "  <tbody>\n",
       "    <tr>\n",
       "      <th>0</th>\n",
       "      <td>540.0</td>\n",
       "      <td>0.0</td>\n",
       "      <td>0.0</td>\n",
       "      <td>162.0</td>\n",
       "      <td>2.5</td>\n",
       "      <td>1040.0</td>\n",
       "      <td>676.0</td>\n",
       "      <td>28</td>\n",
       "    </tr>\n",
       "    <tr>\n",
       "      <th>1</th>\n",
       "      <td>540.0</td>\n",
       "      <td>0.0</td>\n",
       "      <td>0.0</td>\n",
       "      <td>162.0</td>\n",
       "      <td>2.5</td>\n",
       "      <td>1055.0</td>\n",
       "      <td>676.0</td>\n",
       "      <td>28</td>\n",
       "    </tr>\n",
       "    <tr>\n",
       "      <th>2</th>\n",
       "      <td>332.5</td>\n",
       "      <td>142.5</td>\n",
       "      <td>0.0</td>\n",
       "      <td>228.0</td>\n",
       "      <td>0.0</td>\n",
       "      <td>932.0</td>\n",
       "      <td>594.0</td>\n",
       "      <td>270</td>\n",
       "    </tr>\n",
       "    <tr>\n",
       "      <th>3</th>\n",
       "      <td>332.5</td>\n",
       "      <td>142.5</td>\n",
       "      <td>0.0</td>\n",
       "      <td>228.0</td>\n",
       "      <td>0.0</td>\n",
       "      <td>932.0</td>\n",
       "      <td>594.0</td>\n",
       "      <td>365</td>\n",
       "    </tr>\n",
       "    <tr>\n",
       "      <th>4</th>\n",
       "      <td>198.6</td>\n",
       "      <td>132.4</td>\n",
       "      <td>0.0</td>\n",
       "      <td>192.0</td>\n",
       "      <td>0.0</td>\n",
       "      <td>978.4</td>\n",
       "      <td>825.5</td>\n",
       "      <td>360</td>\n",
       "    </tr>\n",
       "  </tbody>\n",
       "</table>\n",
       "</div>"
      ],
      "text/plain": [
       "   Cement  Blast Furnace Slag  Fly Ash  Water  Superplasticizer  \\\n",
       "0   540.0                 0.0      0.0  162.0               2.5   \n",
       "1   540.0                 0.0      0.0  162.0               2.5   \n",
       "2   332.5               142.5      0.0  228.0               0.0   \n",
       "3   332.5               142.5      0.0  228.0               0.0   \n",
       "4   198.6               132.4      0.0  192.0               0.0   \n",
       "\n",
       "   Coarse Aggregate  Fine Aggregate  Age  \n",
       "0            1040.0           676.0   28  \n",
       "1            1055.0           676.0   28  \n",
       "2             932.0           594.0  270  \n",
       "3             932.0           594.0  365  \n",
       "4             978.4           825.5  360  "
      ]
     },
     "execution_count": 23,
     "metadata": {},
     "output_type": "execute_result"
    }
   ],
   "source": [
    "predictors.head() # Check the first five rows of the Predictors dataframe"
   ]
  },
  {
   "cell_type": "code",
   "execution_count": 24,
   "id": "e97c65eb-cb9f-4e18-9af1-0ed0b742b614",
   "metadata": {},
   "outputs": [
    {
     "data": {
      "text/plain": [
       "0    79.99\n",
       "1    61.89\n",
       "2    40.27\n",
       "3    41.05\n",
       "4    44.30\n",
       "Name: Strength, dtype: float64"
      ]
     },
     "execution_count": 24,
     "metadata": {},
     "output_type": "execute_result"
    }
   ],
   "source": [
    "target.head() #Chech the first five values of the Strength column "
   ]
  },
  {
   "cell_type": "markdown",
   "id": "7ff1ef5d-3476-4657-8b1c-c10aa3ba1654",
   "metadata": {},
   "source": [
    "## Normalize the data by substracting the mean and dividing by the standard deviation."
   ]
  },
  {
   "cell_type": "code",
   "execution_count": 11,
   "id": "d88049e5-5b8b-440c-b288-ab6e6ee13dd4",
   "metadata": {},
   "outputs": [
    {
     "data": {
      "text/html": [
       "<div>\n",
       "<style scoped>\n",
       "    .dataframe tbody tr th:only-of-type {\n",
       "        vertical-align: middle;\n",
       "    }\n",
       "\n",
       "    .dataframe tbody tr th {\n",
       "        vertical-align: top;\n",
       "    }\n",
       "\n",
       "    .dataframe thead th {\n",
       "        text-align: right;\n",
       "    }\n",
       "</style>\n",
       "<table border=\"1\" class=\"dataframe\">\n",
       "  <thead>\n",
       "    <tr style=\"text-align: right;\">\n",
       "      <th></th>\n",
       "      <th>Cement</th>\n",
       "      <th>Blast Furnace Slag</th>\n",
       "      <th>Fly Ash</th>\n",
       "      <th>Water</th>\n",
       "      <th>Superplasticizer</th>\n",
       "      <th>Coarse Aggregate</th>\n",
       "      <th>Fine Aggregate</th>\n",
       "      <th>Age</th>\n",
       "    </tr>\n",
       "  </thead>\n",
       "  <tbody>\n",
       "    <tr>\n",
       "      <th>0</th>\n",
       "      <td>2.476712</td>\n",
       "      <td>-0.856472</td>\n",
       "      <td>-0.846733</td>\n",
       "      <td>-0.916319</td>\n",
       "      <td>-0.620147</td>\n",
       "      <td>0.862735</td>\n",
       "      <td>-1.217079</td>\n",
       "      <td>-0.279597</td>\n",
       "    </tr>\n",
       "    <tr>\n",
       "      <th>1</th>\n",
       "      <td>2.476712</td>\n",
       "      <td>-0.856472</td>\n",
       "      <td>-0.846733</td>\n",
       "      <td>-0.916319</td>\n",
       "      <td>-0.620147</td>\n",
       "      <td>1.055651</td>\n",
       "      <td>-1.217079</td>\n",
       "      <td>-0.279597</td>\n",
       "    </tr>\n",
       "    <tr>\n",
       "      <th>2</th>\n",
       "      <td>0.491187</td>\n",
       "      <td>0.795140</td>\n",
       "      <td>-0.846733</td>\n",
       "      <td>2.174405</td>\n",
       "      <td>-1.038638</td>\n",
       "      <td>-0.526262</td>\n",
       "      <td>-2.239829</td>\n",
       "      <td>3.551340</td>\n",
       "    </tr>\n",
       "    <tr>\n",
       "      <th>3</th>\n",
       "      <td>0.491187</td>\n",
       "      <td>0.795140</td>\n",
       "      <td>-0.846733</td>\n",
       "      <td>2.174405</td>\n",
       "      <td>-1.038638</td>\n",
       "      <td>-0.526262</td>\n",
       "      <td>-2.239829</td>\n",
       "      <td>5.055221</td>\n",
       "    </tr>\n",
       "    <tr>\n",
       "      <th>4</th>\n",
       "      <td>-0.790075</td>\n",
       "      <td>0.678079</td>\n",
       "      <td>-0.846733</td>\n",
       "      <td>0.488555</td>\n",
       "      <td>-1.038638</td>\n",
       "      <td>0.070492</td>\n",
       "      <td>0.647569</td>\n",
       "      <td>4.976069</td>\n",
       "    </tr>\n",
       "  </tbody>\n",
       "</table>\n",
       "</div>"
      ],
      "text/plain": [
       "     Cement  Blast Furnace Slag   Fly Ash     Water  Superplasticizer  \\\n",
       "0  2.476712           -0.856472 -0.846733 -0.916319         -0.620147   \n",
       "1  2.476712           -0.856472 -0.846733 -0.916319         -0.620147   \n",
       "2  0.491187            0.795140 -0.846733  2.174405         -1.038638   \n",
       "3  0.491187            0.795140 -0.846733  2.174405         -1.038638   \n",
       "4 -0.790075            0.678079 -0.846733  0.488555         -1.038638   \n",
       "\n",
       "   Coarse Aggregate  Fine Aggregate       Age  \n",
       "0          0.862735       -1.217079 -0.279597  \n",
       "1          1.055651       -1.217079 -0.279597  \n",
       "2         -0.526262       -2.239829  3.551340  \n",
       "3         -0.526262       -2.239829  5.055221  \n",
       "4          0.070492        0.647569  4.976069  "
      ]
     },
     "execution_count": 11,
     "metadata": {},
     "output_type": "execute_result"
    }
   ],
   "source": [
    "predictors_norm = (predictors - predictors.mean()) / predictors.std()\n",
    "predictors_norm.head()"
   ]
  },
  {
   "cell_type": "markdown",
   "id": "386bdc1f-2e05-4b26-af89-55c14dc400f3",
   "metadata": {},
   "source": [
    "Save the number of predictors to *n_cols*."
   ]
  },
  {
   "cell_type": "code",
   "execution_count": 12,
   "id": "b1285e14-8785-4651-a25a-220c747c6a33",
   "metadata": {},
   "outputs": [],
   "source": [
    "n_cols = predictors_norm.shape[1] # number of predictors"
   ]
  },
  {
   "cell_type": "markdown",
   "id": "5b6f834c-547a-4e9f-8870-1f33853570eb",
   "metadata": {},
   "source": [
    "Import Keras and its required packages."
   ]
  },
  {
   "cell_type": "code",
   "execution_count": 13,
   "id": "6d0f8e6a-4de7-48ed-8afa-95100116ce33",
   "metadata": {},
   "outputs": [],
   "source": [
    "import keras"
   ]
  },
  {
   "cell_type": "code",
   "execution_count": 14,
   "id": "a7190881-89b4-4eb6-ae79-835ee081d53c",
   "metadata": {},
   "outputs": [],
   "source": [
    "from keras.models import Sequential\n",
    "from keras.layers import Dense"
   ]
  },
  {
   "cell_type": "markdown",
   "id": "d0583e80-1431-4a1d-b326-2a770a5a588f",
   "metadata": {},
   "source": [
    "## Build a Neural Network"
   ]
  },
  {
   "cell_type": "code",
   "execution_count": 15,
   "id": "262a551c-78e9-4fb1-b670-1ee1f73b8e5d",
   "metadata": {},
   "outputs": [],
   "source": [
    "# define regression model\n",
    "def regression_model():\n",
    "    # create model\n",
    "    model = Sequential()\n",
    "    model.add(Dense(10, activation='relu', input_shape=(n_cols,)))\n",
    "    model.add(Dense(1))\n",
    "    \n",
    "    # compile model\n",
    "    model.compile(optimizer='adam', loss='mean_squared_error')\n",
    "    return model"
   ]
  },
  {
   "cell_type": "markdown",
   "id": "035cc04b-26d0-4b24-a061-0feb578f7ccd",
   "metadata": {},
   "source": [
    "The above function creates a model with 1 hidden layer and 10 hidden units.\n"
   ]
  },
  {
   "cell_type": "markdown",
   "id": "d28a4335-99f7-4bfd-942d-9b16cd10f263",
   "metadata": {},
   "source": [
    "## Train and Test the Network"
   ]
  },
  {
   "cell_type": "code",
   "execution_count": 16,
   "id": "d04577ba-2e41-4ffb-9809-36871fc8a039",
   "metadata": {},
   "outputs": [
    {
     "name": "stderr",
     "output_type": "stream",
     "text": [
      "C:\\Users\\hp\\AppData\\Local\\Programs\\Python\\Python312\\Lib\\site-packages\\keras\\src\\layers\\core\\dense.py:87: UserWarning: Do not pass an `input_shape`/`input_dim` argument to a layer. When using Sequential models, prefer using an `Input(shape)` object as the first layer in the model instead.\n",
      "  super().__init__(activity_regularizer=activity_regularizer, **kwargs)\n"
     ]
    }
   ],
   "source": [
    "# build the model\n",
    "model = regression_model()"
   ]
  },
  {
   "cell_type": "code",
   "execution_count": 17,
   "id": "de12b3e0-d6f4-47df-80c2-8e4871ef39d5",
   "metadata": {},
   "outputs": [
    {
     "name": "stdout",
     "output_type": "stream",
     "text": [
      "Epoch 1/50\n",
      "23/23 - 15s - 638ms/step - loss: 1639.8152 - val_loss: 1195.3136\n",
      "Epoch 2/50\n",
      "23/23 - 0s - 12ms/step - loss: 1619.6119 - val_loss: 1183.6796\n",
      "Epoch 3/50\n",
      "23/23 - 0s - 13ms/step - loss: 1598.7471 - val_loss: 1171.6350\n",
      "Epoch 4/50\n",
      "23/23 - 0s - 17ms/step - loss: 1577.0168 - val_loss: 1159.1195\n",
      "Epoch 5/50\n",
      "23/23 - 0s - 12ms/step - loss: 1554.5812 - val_loss: 1146.0953\n",
      "Epoch 6/50\n",
      "23/23 - 0s - 12ms/step - loss: 1531.2966 - val_loss: 1132.2524\n",
      "Epoch 7/50\n",
      "23/23 - 0s - 11ms/step - loss: 1506.1497 - val_loss: 1117.8569\n",
      "Epoch 8/50\n",
      "23/23 - 0s - 12ms/step - loss: 1479.5409 - val_loss: 1102.6875\n",
      "Epoch 9/50\n",
      "23/23 - 0s - 11ms/step - loss: 1451.2800 - val_loss: 1086.7003\n",
      "Epoch 10/50\n",
      "23/23 - 0s - 12ms/step - loss: 1421.4436 - val_loss: 1069.9075\n",
      "Epoch 11/50\n",
      "23/23 - 0s - 11ms/step - loss: 1389.5940 - val_loss: 1052.2209\n",
      "Epoch 12/50\n",
      "23/23 - 0s - 11ms/step - loss: 1356.1895 - val_loss: 1033.6606\n",
      "Epoch 13/50\n",
      "23/23 - 0s - 10ms/step - loss: 1321.6782 - val_loss: 1014.3387\n",
      "Epoch 14/50\n",
      "23/23 - 0s - 12ms/step - loss: 1285.0913 - val_loss: 994.4191\n",
      "Epoch 15/50\n",
      "23/23 - 0s - 10ms/step - loss: 1247.3207 - val_loss: 973.6139\n",
      "Epoch 16/50\n",
      "23/23 - 0s - 10ms/step - loss: 1208.8090 - val_loss: 952.4997\n",
      "Epoch 17/50\n",
      "23/23 - 0s - 11ms/step - loss: 1168.7129 - val_loss: 930.2246\n",
      "Epoch 18/50\n",
      "23/23 - 0s - 11ms/step - loss: 1127.2654 - val_loss: 907.9648\n",
      "Epoch 19/50\n",
      "23/23 - 0s - 10ms/step - loss: 1085.8022 - val_loss: 885.0876\n",
      "Epoch 20/50\n",
      "23/23 - 0s - 10ms/step - loss: 1043.9308 - val_loss: 862.1393\n",
      "Epoch 21/50\n",
      "23/23 - 0s - 10ms/step - loss: 1001.1343 - val_loss: 839.1601\n",
      "Epoch 22/50\n",
      "23/23 - 0s - 11ms/step - loss: 959.3784 - val_loss: 815.5403\n",
      "Epoch 23/50\n",
      "23/23 - 0s - 10ms/step - loss: 917.2022 - val_loss: 792.6838\n",
      "Epoch 24/50\n",
      "23/23 - 0s - 10ms/step - loss: 876.5099 - val_loss: 768.9878\n",
      "Epoch 25/50\n",
      "23/23 - 0s - 10ms/step - loss: 835.2454 - val_loss: 746.4888\n",
      "Epoch 26/50\n",
      "23/23 - 0s - 11ms/step - loss: 796.0623 - val_loss: 723.4478\n",
      "Epoch 27/50\n",
      "23/23 - 0s - 10ms/step - loss: 758.3950 - val_loss: 700.4469\n",
      "Epoch 28/50\n",
      "23/23 - 0s - 10ms/step - loss: 721.5912 - val_loss: 678.7463\n",
      "Epoch 29/50\n",
      "23/23 - 0s - 10ms/step - loss: 686.2874 - val_loss: 657.3212\n",
      "Epoch 30/50\n",
      "23/23 - 0s - 10ms/step - loss: 652.6933 - val_loss: 635.4255\n",
      "Epoch 31/50\n",
      "23/23 - 0s - 11ms/step - loss: 620.3959 - val_loss: 614.9421\n",
      "Epoch 32/50\n",
      "23/23 - 0s - 10ms/step - loss: 590.3972 - val_loss: 594.6985\n",
      "Epoch 33/50\n",
      "23/23 - 0s - 10ms/step - loss: 561.6158 - val_loss: 574.6065\n",
      "Epoch 34/50\n",
      "23/23 - 0s - 10ms/step - loss: 534.8423 - val_loss: 555.6157\n",
      "Epoch 35/50\n",
      "23/23 - 0s - 10ms/step - loss: 509.4712 - val_loss: 537.2586\n",
      "Epoch 36/50\n",
      "23/23 - 0s - 10ms/step - loss: 485.9641 - val_loss: 519.3609\n",
      "Epoch 37/50\n",
      "23/23 - 0s - 10ms/step - loss: 463.6642 - val_loss: 501.9474\n",
      "Epoch 38/50\n",
      "23/23 - 0s - 10ms/step - loss: 443.4672 - val_loss: 484.6520\n",
      "Epoch 39/50\n",
      "23/23 - 0s - 11ms/step - loss: 424.1710 - val_loss: 468.5122\n",
      "Epoch 40/50\n",
      "23/23 - 0s - 11ms/step - loss: 407.0436 - val_loss: 452.7923\n",
      "Epoch 41/50\n",
      "23/23 - 0s - 10ms/step - loss: 390.5602 - val_loss: 438.5920\n",
      "Epoch 42/50\n",
      "23/23 - 0s - 10ms/step - loss: 375.9771 - val_loss: 424.2663\n",
      "Epoch 43/50\n",
      "23/23 - 0s - 15ms/step - loss: 362.4068 - val_loss: 411.5295\n",
      "Epoch 44/50\n",
      "23/23 - 0s - 10ms/step - loss: 349.7283 - val_loss: 398.5016\n",
      "Epoch 45/50\n",
      "23/23 - 0s - 10ms/step - loss: 338.1954 - val_loss: 386.3842\n",
      "Epoch 46/50\n",
      "23/23 - 0s - 10ms/step - loss: 327.7440 - val_loss: 374.0704\n",
      "Epoch 47/50\n",
      "23/23 - 0s - 10ms/step - loss: 317.8718 - val_loss: 363.2759\n",
      "Epoch 48/50\n",
      "23/23 - 0s - 10ms/step - loss: 308.9873 - val_loss: 352.5304\n",
      "Epoch 49/50\n",
      "23/23 - 0s - 15ms/step - loss: 300.6070 - val_loss: 343.1271\n",
      "Epoch 50/50\n",
      "23/23 - 0s - 11ms/step - loss: 293.0744 - val_loss: 333.5169\n"
     ]
    },
    {
     "data": {
      "text/plain": [
       "<keras.src.callbacks.history.History at 0x25b9d31bf20>"
      ]
     },
     "execution_count": 17,
     "metadata": {},
     "output_type": "execute_result"
    }
   ],
   "source": [
    "# fit the model\n",
    "model.fit(predictors_norm, target, validation_split=0.3, epochs=50, verbose=2)"
   ]
  },
  {
   "cell_type": "markdown",
   "id": "26139ae0-3842-4b72-9331-2b376bbaec21",
   "metadata": {},
   "source": [
    "Repeat the traiing and testing for 50 cycles and create a list of 50 mean squared errors representing each cycle."
   ]
  },
  {
   "cell_type": "code",
   "execution_count": 20,
   "id": "9a0b0f64-b1ef-4c87-ae93-4aef22153a57",
   "metadata": {},
   "outputs": [
    {
     "name": "stdout",
     "output_type": "stream",
     "text": [
      "i #1: mean_squared_error 67.77114868164062\n",
      "i #2: mean_squared_error 64.51091766357422\n",
      "i #3: mean_squared_error 62.744537353515625\n",
      "i #4: mean_squared_error 64.35626983642578\n",
      "i #5: mean_squared_error 66.3448257446289\n",
      "i #6: mean_squared_error 65.62712097167969\n",
      "i #7: mean_squared_error 66.3621826171875\n",
      "i #8: mean_squared_error 67.21324157714844\n",
      "i #9: mean_squared_error 68.71736145019531\n",
      "i #10: mean_squared_error 70.15755462646484\n",
      "i #11: mean_squared_error 72.65748596191406\n",
      "i #12: mean_squared_error 76.44063568115234\n",
      "i #13: mean_squared_error 80.10762786865234\n",
      "i #14: mean_squared_error 82.4648208618164\n",
      "i #15: mean_squared_error 86.91581726074219\n",
      "i #16: mean_squared_error 89.10697174072266\n",
      "i #17: mean_squared_error 92.10164642333984\n",
      "i #18: mean_squared_error 95.48860168457031\n",
      "i #19: mean_squared_error 98.07377624511719\n",
      "i #20: mean_squared_error 98.91725158691406\n",
      "i #21: mean_squared_error 101.72447967529297\n",
      "i #22: mean_squared_error 102.79324340820312\n",
      "i #23: mean_squared_error 105.37487030029297\n",
      "i #24: mean_squared_error 107.64871215820312\n",
      "i #25: mean_squared_error 108.96517181396484\n",
      "i #26: mean_squared_error 110.56372833251953\n",
      "i #27: mean_squared_error 112.22631072998047\n",
      "i #28: mean_squared_error 115.21276092529297\n",
      "i #29: mean_squared_error 116.30721282958984\n",
      "i #30: mean_squared_error 118.43546295166016\n",
      "i #31: mean_squared_error 119.45503234863281\n",
      "i #32: mean_squared_error 121.65095520019531\n",
      "i #33: mean_squared_error 124.01907348632812\n",
      "i #34: mean_squared_error 125.39955139160156\n",
      "i #35: mean_squared_error 128.78121948242188\n",
      "i #36: mean_squared_error 131.76426696777344\n",
      "i #37: mean_squared_error 132.6793975830078\n",
      "i #38: mean_squared_error 132.89773559570312\n",
      "i #39: mean_squared_error 136.6147003173828\n",
      "i #40: mean_squared_error 140.33352661132812\n",
      "i #41: mean_squared_error 141.1480255126953\n",
      "i #42: mean_squared_error 142.57003784179688\n",
      "i #43: mean_squared_error 142.7078857421875\n",
      "i #44: mean_squared_error 145.22218322753906\n",
      "i #45: mean_squared_error 147.81353759765625\n",
      "i #46: mean_squared_error 147.53286743164062\n",
      "i #47: mean_squared_error 147.854248046875\n",
      "i #48: mean_squared_error 147.74388122558594\n",
      "i #49: mean_squared_error 146.38525390625\n",
      "i #50: mean_squared_error 147.99160766601562\n"
     ]
    }
   ],
   "source": [
    "mean_squared_errors = []\n",
    "for i in range(50):\n",
    "    #Randomly split the data (70% for training and 30% for testing), train , and test the model\n",
    "   \n",
    "    fitting = model.fit(predictors_norm, target, validation_split=0.3, epochs=50, verbose=0)\n",
    "    #Find the last mean_squared_error in history.\n",
    "    mean_squared_error = fitting.history['val_loss'][-1]\n",
    "    #AAppend every mean_squared_error considered to the list.\n",
    "    mean_squared_errors.append(mean_squared_error)\n",
    "    print('i #{}: mean_squared_error {}'.format(i+1, mean_squared_error))"
   ]
  },
  {
   "cell_type": "markdown",
   "id": "157c2f65-e495-4a28-a7bd-825e7198b0ed",
   "metadata": {},
   "source": [
    "Report the mean and the standard deviation of the mean squared errors."
   ]
  },
  {
   "cell_type": "code",
   "execution_count": 21,
   "id": "8e73d01b-c1e0-422c-829d-d9d8db501395",
   "metadata": {},
   "outputs": [
    {
     "name": "stdout",
     "output_type": "stream",
     "text": [
      "The mean of the mean squared errors: 107.7179347229004\n",
      "The standard deviation of the mean squared errors: 28.981621351744014\n"
     ]
    }
   ],
   "source": [
    "print('The mean of the mean squared errors: {}'.format(np.mean(mean_squared_errors)))\n",
    "print('The standard deviation of the mean squared errors: {}'.format(np.std(mean_squared_errors)))"
   ]
  },
  {
   "cell_type": "markdown",
   "id": "fcb4963d-1304-4f92-8427-96ca9f48ed9b",
   "metadata": {},
   "source": [
    "Investigate the effect of normalizing the predictors."
   ]
  },
  {
   "cell_type": "code",
   "execution_count": 35,
   "id": "981b7fe2-c73e-45a1-9cef-b46b4a4af427",
   "metadata": {},
   "outputs": [
    {
     "data": {
      "text/plain": [
       "0.9706782469123288"
      ]
     },
     "execution_count": 35,
     "metadata": {},
     "output_type": "execute_result"
    }
   ],
   "source": [
    "normalized_to_unnormalized= 107.7179347229004/110.9718231201172\n",
    "normalized_to_unnormalized"
   ]
  },
  {
   "cell_type": "code",
   "execution_count": 36,
   "id": "0de81580-ba50-44de-bf02-a1ab8e15c49a",
   "metadata": {},
   "outputs": [
    {
     "data": {
      "text/plain": [
       "0.029321753087671154"
      ]
     },
     "execution_count": 36,
     "metadata": {},
     "output_type": "execute_result"
    }
   ],
   "source": [
    "Effect_of_normalization= 1- (107.7179347229004/110.9718231201172)\n",
    "Effect_of_normalization"
   ]
  },
  {
   "cell_type": "markdown",
   "id": "330d0c60-5e14-4157-bea8-9a04582f6624",
   "metadata": {},
   "source": [
    "The mean of the mean squared errors with normalized predicors is almost 97 % of that without noramlized predictors. Thus, the effect of normalization is just about 3 %."
   ]
  },
  {
   "cell_type": "code",
   "execution_count": null,
   "id": "43d81050-4363-4806-8dd7-417a47decf56",
   "metadata": {},
   "outputs": [],
   "source": []
  }
 ],
 "metadata": {
  "kernelspec": {
   "display_name": "Python 3 (ipykernel)",
   "language": "python",
   "name": "python3"
  },
  "language_info": {
   "codemirror_mode": {
    "name": "ipython",
    "version": 3
   },
   "file_extension": ".py",
   "mimetype": "text/x-python",
   "name": "python",
   "nbconvert_exporter": "python",
   "pygments_lexer": "ipython3",
   "version": "3.12.1"
  }
 },
 "nbformat": 4,
 "nbformat_minor": 5
}
